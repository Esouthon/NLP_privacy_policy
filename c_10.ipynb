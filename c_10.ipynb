{
 "cells": [
  {
   "cell_type": "markdown",
   "id": "70eaab48",
   "metadata": {},
   "source": [
    "## Import libraries\n"
   ]
  },
  {
   "cell_type": "code",
   "execution_count": 1,
   "id": "b46bcd72",
   "metadata": {},
   "outputs": [],
   "source": [
    "import pandas as pd\n",
    "import numpy as np\n",
    "import tensorflow as tf\n",
    "from sklearn.model_selection import train_test_split\n",
    "from tqdm import tqdm"
   ]
  },
  {
   "cell_type": "code",
   "execution_count": 2,
   "id": "3241e7c5",
   "metadata": {},
   "outputs": [],
   "source": [
    "from tensorflow.keras import Model, Input\n",
    "from tensorflow.keras.layers import Dense, Dropout\n",
    "from tensorflow.keras.metrics import RootMeanSquaredError\n",
    "from tensorflow.keras.optimizers import Adam\n",
    "from tensorflow.keras.callbacks import ModelCheckpoint\n",
    "from tensorflow.keras.utils import plot_model\n",
    "from transformers import TFBertModel, BertConfig, BertTokenizerFast\n",
    "from tensorflow.python.keras import backend as K\n",
    "import matplotlib.pyplot as plt\n"
   ]
  },
  {
   "cell_type": "code",
   "execution_count": 3,
   "id": "61f53ee4",
   "metadata": {},
   "outputs": [],
   "source": [
    "import torch.nn.functional as Fun\n",
    "import torch"
   ]
  },
  {
   "cell_type": "markdown",
   "id": "c0e11b7b",
   "metadata": {},
   "source": [
    "## Import Data"
   ]
  },
  {
   "cell_type": "code",
   "execution_count": 4,
   "id": "89deb5f7",
   "metadata": {},
   "outputs": [
    {
     "data": {
      "text/html": [
       "<div>\n",
       "<style scoped>\n",
       "    .dataframe tbody tr th:only-of-type {\n",
       "        vertical-align: middle;\n",
       "    }\n",
       "\n",
       "    .dataframe tbody tr th {\n",
       "        vertical-align: top;\n",
       "    }\n",
       "\n",
       "    .dataframe thead th {\n",
       "        text-align: right;\n",
       "    }\n",
       "</style>\n",
       "<table border=\"1\" class=\"dataframe\">\n",
       "  <thead>\n",
       "    <tr style=\"text-align: right;\">\n",
       "      <th></th>\n",
       "      <th>Unnamed: 0</th>\n",
       "      <th>text</th>\n",
       "      <th>value</th>\n",
       "    </tr>\n",
       "  </thead>\n",
       "  <tbody>\n",
       "    <tr>\n",
       "      <th>0</th>\n",
       "      <td>0</td>\n",
       "      <td>(1) a Federal, State, or local law enforcement...</td>\n",
       "      <td>4.0</td>\n",
       "    </tr>\n",
       "    <tr>\n",
       "      <th>1</th>\n",
       "      <td>1</td>\n",
       "      <td>(1) a Federal, State, or local law enforcement...</td>\n",
       "      <td>4.0</td>\n",
       "    </tr>\n",
       "    <tr>\n",
       "      <th>2</th>\n",
       "      <td>2</td>\n",
       "      <td>(1) announcing the change on the home page of ...</td>\n",
       "      <td>4.0</td>\n",
       "    </tr>\n",
       "    <tr>\n",
       "      <th>3</th>\n",
       "      <td>3</td>\n",
       "      <td>(1) comply with the law or legal processes;</td>\n",
       "      <td>4.0</td>\n",
       "    </tr>\n",
       "    <tr>\n",
       "      <th>4</th>\n",
       "      <td>4</td>\n",
       "      <td>(1) comply with the law or with legal process;</td>\n",
       "      <td>4.0</td>\n",
       "    </tr>\n",
       "  </tbody>\n",
       "</table>\n",
       "</div>"
      ],
      "text/plain": [
       "   Unnamed: 0                                               text  value\n",
       "0           0  (1) a Federal, State, or local law enforcement...    4.0\n",
       "1           1  (1) a Federal, State, or local law enforcement...    4.0\n",
       "2           2  (1) announcing the change on the home page of ...    4.0\n",
       "3           3        (1) comply with the law or legal processes;    4.0\n",
       "4           4     (1) comply with the law or with legal process;    4.0"
      ]
     },
     "execution_count": 4,
     "metadata": {},
     "output_type": "execute_result"
    }
   ],
   "source": [
    "#Read data\n",
    "df=pd.read_csv('/flush5/sou090/project7/data_c_10.csv')\n",
    "df.head()"
   ]
  },
  {
   "cell_type": "code",
   "execution_count": 5,
   "id": "192b7723",
   "metadata": {},
   "outputs": [
    {
     "data": {
      "text/plain": [
       "numpy.float64"
      ]
     },
     "execution_count": 5,
     "metadata": {},
     "output_type": "execute_result"
    }
   ],
   "source": [
    "type(df['value'][2])"
   ]
  },
  {
   "cell_type": "markdown",
   "id": "09bf33c3",
   "metadata": {},
   "source": [
    "### 1. Encode Labels"
   ]
  },
  {
   "cell_type": "code",
   "execution_count": 6,
   "id": "71255643",
   "metadata": {},
   "outputs": [],
   "source": [
    "from sklearn.preprocessing import OneHotEncoder "
   ]
  },
  {
   "cell_type": "code",
   "execution_count": 7,
   "id": "3243d6b3",
   "metadata": {
    "scrolled": false
   },
   "outputs": [
    {
     "data": {
      "text/plain": [
       "29740"
      ]
     },
     "execution_count": 7,
     "metadata": {},
     "output_type": "execute_result"
    }
   ],
   "source": [
    "one=OneHotEncoder(sparse=False)\n",
    "encoded=one.fit_transform(df[['value']])\n",
    "len(encoded)"
   ]
  },
  {
   "cell_type": "markdown",
   "id": "28dbb6fc",
   "metadata": {},
   "source": [
    "### 2. Creat new data with the encoded value"
   ]
  },
  {
   "cell_type": "code",
   "execution_count": 8,
   "id": "89aa61cc",
   "metadata": {},
   "outputs": [],
   "source": [
    "head = {'text' : [], 'value' : []}\n",
    "df_model = pd.DataFrame(head,dtype=object)"
   ]
  },
  {
   "cell_type": "code",
   "execution_count": 9,
   "id": "4e0af95a",
   "metadata": {
    "scrolled": true
   },
   "outputs": [
    {
     "name": "stderr",
     "output_type": "stream",
     "text": [
      "100%|██████████| 29740/29740 [01:30<00:00, 328.04it/s]\n"
     ]
    },
    {
     "data": {
      "text/html": [
       "<div>\n",
       "<style scoped>\n",
       "    .dataframe tbody tr th:only-of-type {\n",
       "        vertical-align: middle;\n",
       "    }\n",
       "\n",
       "    .dataframe tbody tr th {\n",
       "        vertical-align: top;\n",
       "    }\n",
       "\n",
       "    .dataframe thead th {\n",
       "        text-align: right;\n",
       "    }\n",
       "</style>\n",
       "<table border=\"1\" class=\"dataframe\">\n",
       "  <thead>\n",
       "    <tr style=\"text-align: right;\">\n",
       "      <th></th>\n",
       "      <th>text</th>\n",
       "      <th>value</th>\n",
       "    </tr>\n",
       "  </thead>\n",
       "  <tbody>\n",
       "    <tr>\n",
       "      <th>0</th>\n",
       "      <td>(1) a Federal, State, or local law enforcement...</td>\n",
       "      <td>[0.0, 0.0, 0.0, 0.0, 1.0, 0.0, 0.0]</td>\n",
       "    </tr>\n",
       "    <tr>\n",
       "      <th>1</th>\n",
       "      <td>(1) a Federal, State, or local law enforcement...</td>\n",
       "      <td>[0.0, 0.0, 0.0, 0.0, 1.0, 0.0, 0.0]</td>\n",
       "    </tr>\n",
       "    <tr>\n",
       "      <th>2</th>\n",
       "      <td>(1) announcing the change on the home page of ...</td>\n",
       "      <td>[0.0, 0.0, 0.0, 0.0, 1.0, 0.0, 0.0]</td>\n",
       "    </tr>\n",
       "    <tr>\n",
       "      <th>3</th>\n",
       "      <td>(1) comply with the law or legal processes;</td>\n",
       "      <td>[0.0, 0.0, 0.0, 0.0, 1.0, 0.0, 0.0]</td>\n",
       "    </tr>\n",
       "    <tr>\n",
       "      <th>4</th>\n",
       "      <td>(1) comply with the law or with legal process;</td>\n",
       "      <td>[0.0, 0.0, 0.0, 0.0, 1.0, 0.0, 0.0]</td>\n",
       "    </tr>\n",
       "    <tr>\n",
       "      <th>5</th>\n",
       "      <td>(1) following the \\</td>\n",
       "      <td>[0.0, 0.0, 0.0, 0.0, 0.0, 1.0, 0.0]</td>\n",
       "    </tr>\n",
       "    <tr>\n",
       "      <th>6</th>\n",
       "      <td>(1) identify the terms of any special offers y...</td>\n",
       "      <td>[0.0, 0.0, 0.0, 0.0, 1.0, 0.0, 0.0]</td>\n",
       "    </tr>\n",
       "    <tr>\n",
       "      <th>7</th>\n",
       "      <td>(1) identify the terms of any special offers y...</td>\n",
       "      <td>[0.0, 0.0, 1.0, 0.0, 0.0, 0.0, 0.0]</td>\n",
       "    </tr>\n",
       "    <tr>\n",
       "      <th>8</th>\n",
       "      <td>(1) information we receive from you</td>\n",
       "      <td>[0.0, 0.0, 1.0, 0.0, 0.0, 0.0, 0.0]</td>\n",
       "    </tr>\n",
       "    <tr>\n",
       "      <th>9</th>\n",
       "      <td>(1) personal information,</td>\n",
       "      <td>[0.0, 0.0, 1.0, 0.0, 0.0, 0.0, 0.0]</td>\n",
       "    </tr>\n",
       "  </tbody>\n",
       "</table>\n",
       "</div>"
      ],
      "text/plain": [
       "                                                text  \\\n",
       "0  (1) a Federal, State, or local law enforcement...   \n",
       "1  (1) a Federal, State, or local law enforcement...   \n",
       "2  (1) announcing the change on the home page of ...   \n",
       "3        (1) comply with the law or legal processes;   \n",
       "4     (1) comply with the law or with legal process;   \n",
       "5                                (1) following the \\   \n",
       "6  (1) identify the terms of any special offers y...   \n",
       "7  (1) identify the terms of any special offers y...   \n",
       "8                (1) information we receive from you   \n",
       "9                          (1) personal information,   \n",
       "\n",
       "                                 value  \n",
       "0  [0.0, 0.0, 0.0, 0.0, 1.0, 0.0, 0.0]  \n",
       "1  [0.0, 0.0, 0.0, 0.0, 1.0, 0.0, 0.0]  \n",
       "2  [0.0, 0.0, 0.0, 0.0, 1.0, 0.0, 0.0]  \n",
       "3  [0.0, 0.0, 0.0, 0.0, 1.0, 0.0, 0.0]  \n",
       "4  [0.0, 0.0, 0.0, 0.0, 1.0, 0.0, 0.0]  \n",
       "5  [0.0, 0.0, 0.0, 0.0, 0.0, 1.0, 0.0]  \n",
       "6  [0.0, 0.0, 0.0, 0.0, 1.0, 0.0, 0.0]  \n",
       "7  [0.0, 0.0, 1.0, 0.0, 0.0, 0.0, 0.0]  \n",
       "8  [0.0, 0.0, 1.0, 0.0, 0.0, 0.0, 0.0]  \n",
       "9  [0.0, 0.0, 1.0, 0.0, 0.0, 0.0, 0.0]  "
      ]
     },
     "execution_count": 9,
     "metadata": {},
     "output_type": "execute_result"
    }
   ],
   "source": [
    "for k in tqdm(range (len(df))):\n",
    "    df_model.loc[k]=[df['text'][k],encoded[k]]\n",
    "df_model.head(10)"
   ]
  },
  {
   "cell_type": "markdown",
   "id": "70cf4395",
   "metadata": {},
   "source": [
    "### 2. Create the new data"
   ]
  },
  {
   "cell_type": "code",
   "execution_count": 41,
   "id": "55b8c5d2",
   "metadata": {},
   "outputs": [
    {
     "name": "stdout",
     "output_type": "stream",
     "text": [
      "                                                    text  \\\n",
      "22799  shopping cart, screen preferences, and the pag...   \n",
      "13894  communicate related information, such as order...   \n",
      "28518  with third party processors for processing on ...   \n",
      "17250  in the sites and in our communications with yo...   \n",
      "24132                                    third parties f   \n",
      "...                                                  ...   \n",
      "2286   Geekdo collects information about your transac...   \n",
      "4544                                    Mapping features   \n",
      "9185   We may use cookies, web beacons/pixel tags, lo...   \n",
      "6710   The information we learn from customers helps ...   \n",
      "6272   Submit to opt out of online Site behavior used...   \n",
      "\n",
      "                                     value  \n",
      "22799  [0.0, 0.0, 1.0, 0.0, 0.0, 0.0, 0.0]  \n",
      "13894  [0.0, 0.0, 1.0, 0.0, 0.0, 0.0, 0.0]  \n",
      "28518  [0.0, 0.0, 0.0, 0.0, 1.0, 0.0, 0.0]  \n",
      "17250  [0.0, 0.0, 1.0, 0.0, 0.0, 0.0, 0.0]  \n",
      "24132  [0.0, 0.0, 0.0, 0.0, 1.0, 0.0, 0.0]  \n",
      "...                                    ...  \n",
      "2286   [0.0, 0.0, 1.0, 0.0, 0.0, 0.0, 0.0]  \n",
      "4544   [0.0, 0.0, 1.0, 0.0, 0.0, 0.0, 0.0]  \n",
      "9185   [0.0, 0.0, 1.0, 0.0, 0.0, 0.0, 0.0]  \n",
      "6710   [0.0, 0.0, 1.0, 0.0, 0.0, 0.0, 0.0]  \n",
      "6272   [1.0, 0.0, 0.0, 0.0, 0.0, 0.0, 0.0]  \n",
      "\n",
      "[22305 rows x 2 columns]\n"
     ]
    }
   ],
   "source": [
    "#Split data\n",
    "train_df, test_df = train_test_split(df_model)\n",
    "\n",
    "print(train_df)"
   ]
  },
  {
   "cell_type": "markdown",
   "id": "916721d9",
   "metadata": {},
   "source": [
    "### Check the len max of the word"
   ]
  },
  {
   "cell_type": "code",
   "execution_count": 11,
   "id": "0bbc72b6",
   "metadata": {},
   "outputs": [
    {
     "name": "stdout",
     "output_type": "stream",
     "text": [
      "max length of text:  254 words\n"
     ]
    }
   ],
   "source": [
    "ex_len = []\n",
    "for i in train_df['text']:\n",
    "  ex_len.append(len(i.split()))\n",
    "print('max length of text: ', max(ex_len), 'words')"
   ]
  },
  {
   "cell_type": "markdown",
   "id": "8842301d",
   "metadata": {},
   "source": [
    "## Tokenize"
   ]
  },
  {
   "cell_type": "code",
   "execution_count": 12,
   "id": "043abc5c",
   "metadata": {},
   "outputs": [],
   "source": [
    "bert_model = 'bert-base-uncased'\n",
    "tokenizer = BertTokenizerFast.from_pretrained(bert_model)"
   ]
  },
  {
   "cell_type": "code",
   "execution_count": 13,
   "id": "a905b289",
   "metadata": {},
   "outputs": [],
   "source": [
    "# Encoder the function to tokenize the data\n",
    "def encoder(df, tokenizer, label = 'text', maxLen = 210):\n",
    "    input_id = []\n",
    "    token_type = []\n",
    "    attention_mask = []\n",
    "    for i in df[label].values:\n",
    "        token = tokenizer(i, max_length = maxLen, truncation = True, padding = 'max_length', add_special_tokens = True)\n",
    "        input_id.append(token['input_ids'])\n",
    "        token_type.append(token['token_type_ids'])\n",
    "        attention_mask.append(token['attention_mask'])\n",
    "    return np.array(input_id), np.array(token_type), np.array(attention_mask)"
   ]
  },
  {
   "cell_type": "code",
   "execution_count": 14,
   "id": "22e55243",
   "metadata": {
    "scrolled": true
   },
   "outputs": [],
   "source": [
    "#Call the function to tokenize data\n",
    "train_d = encoder(train_df, tokenizer)\n",
    "test_d = encoder(test_df, tokenizer)"
   ]
  },
  {
   "cell_type": "markdown",
   "id": "962d64d6",
   "metadata": {},
   "source": [
    "# Config of Bert"
   ]
  },
  {
   "cell_type": "code",
   "execution_count": 15,
   "id": "340a84ef",
   "metadata": {},
   "outputs": [],
   "source": [
    "model_config = BertConfig.from_pretrained(bert_model)"
   ]
  },
  {
   "cell_type": "code",
   "execution_count": 16,
   "id": "4e85c97c",
   "metadata": {},
   "outputs": [
    {
     "data": {
      "text/plain": [
       "BertConfig {\n",
       "  \"architectures\": [\n",
       "    \"BertForMaskedLM\"\n",
       "  ],\n",
       "  \"attention_probs_dropout_prob\": 0.1,\n",
       "  \"classifier_dropout\": null,\n",
       "  \"gradient_checkpointing\": false,\n",
       "  \"hidden_act\": \"gelu\",\n",
       "  \"hidden_dropout_prob\": 0.1,\n",
       "  \"hidden_size\": 768,\n",
       "  \"initializer_range\": 0.02,\n",
       "  \"intermediate_size\": 3072,\n",
       "  \"layer_norm_eps\": 1e-12,\n",
       "  \"max_position_embeddings\": 512,\n",
       "  \"model_type\": \"bert\",\n",
       "  \"num_attention_heads\": 12,\n",
       "  \"num_hidden_layers\": 12,\n",
       "  \"output_hidden_states\": true,\n",
       "  \"pad_token_id\": 0,\n",
       "  \"position_embedding_type\": \"absolute\",\n",
       "  \"transformers_version\": \"4.22.2\",\n",
       "  \"type_vocab_size\": 2,\n",
       "  \"use_cache\": true,\n",
       "  \"vocab_size\": 30522\n",
       "}"
      ]
     },
     "execution_count": 16,
     "metadata": {},
     "output_type": "execute_result"
    }
   ],
   "source": [
    "model_config.output_hidden_states = True\n",
    "model_config"
   ]
  },
  {
   "cell_type": "markdown",
   "id": "cf98c493",
   "metadata": {},
   "source": [
    "## Parameters"
   ]
  },
  {
   "cell_type": "code",
   "execution_count": 17,
   "id": "76089444",
   "metadata": {
    "scrolled": true
   },
   "outputs": [
    {
     "name": "stderr",
     "output_type": "stream",
     "text": [
      "Some layers from the model checkpoint at bert-base-uncased were not used when initializing TFBertModel: ['mlm___cls', 'nsp___cls']\n",
      "- This IS expected if you are initializing TFBertModel from the checkpoint of a model trained on another task or with another architecture (e.g. initializing a BertForSequenceClassification model from a BertForPreTraining model).\n",
      "- This IS NOT expected if you are initializing TFBertModel from the checkpoint of a model that you expect to be exactly identical (initializing a BertForSequenceClassification model from a BertForSequenceClassification model).\n",
      "All the layers of TFBertModel were initialized from the model checkpoint at bert-base-uncased.\n",
      "If your task is similar to the task the model of the checkpoint was trained on, you can already use TFBertModel for predictions without further training.\n"
     ]
    }
   ],
   "source": [
    "bert = TFBertModel.from_pretrained(bert_model, config = model_config)"
   ]
  },
  {
   "cell_type": "markdown",
   "id": "3f644c56",
   "metadata": {},
   "source": [
    "### Tunable parameters"
   ]
  },
  {
   "cell_type": "code",
   "execution_count": 48,
   "id": "56b741c3",
   "metadata": {},
   "outputs": [],
   "source": [
    "# tunable parameters\n",
    "max_len = 210\n",
    "#fix learning_rate\n",
    "learning_rate = 1e-4\n",
    "epochs = 3"
   ]
  },
  {
   "cell_type": "code",
   "execution_count": 49,
   "id": "e59b7697",
   "metadata": {},
   "outputs": [],
   "source": [
    "#callbacks\n",
    "ckpt_dir = 'ckpt{epoch:02d}.h5'\n",
    "ckpt = ModelCheckpoint(\n",
    "    filepath = ckpt_dir,\n",
    "    save_freq = 'epoch',\n",
    "    save_weights_only=True)\n",
    "callbacks = [ckpt]"
   ]
  },
  {
   "cell_type": "code",
   "execution_count": null,
   "id": "0012a8ba",
   "metadata": {},
   "outputs": [],
   "source": [
    "#optimizer = Adam(learning_rate = learning_rate)\n",
    "optimizer=tf.keras.optimizers.Adam(\n",
    "    learning_rate=0.001,\n",
    "    beta_1=0.9,\n",
    "    beta_2=0.999,\n",
    "    epsilon=1e-07,\n",
    "    amsgrad=False,\n",
    "    name=\"Adam\",\n",
    "    **kwargs\n",
    ")"
   ]
  },
  {
   "cell_type": "code",
   "execution_count": null,
   "id": "8c45c7fc",
   "metadata": {},
   "outputs": [],
   "source": [
    "#Loss\n",
    "loss = 'categorical_crossentropy'"
   ]
  },
  {
   "cell_type": "code",
   "execution_count": null,
   "id": "58873cb2",
   "metadata": {},
   "outputs": [],
   "source": [
    "#Metrics\n",
    "metrics=tf.keras.metrics.CategoricalAccuracy(name=\"accuracy\", dtype=None)"
   ]
  },
  {
   "cell_type": "markdown",
   "id": "63ecebae",
   "metadata": {},
   "source": [
    "### Bert"
   ]
  },
  {
   "cell_type": "code",
   "execution_count": null,
   "id": "51b0e8c0",
   "metadata": {},
   "outputs": [],
   "source": [
    "input_ids_i = Input(shape = (max_len, ), dtype = tf.int32, name = 'input_ids')\n",
    "token_type_ids_i = Input(shape = (max_len, ), dtype = tf.int32, name = 'token_type_ids')\n",
    "attention_mask_i = Input(shape = (max_len, ), dtype = tf.int32, name = 'attention_mask')\n",
    "inputs = [input_ids_i, token_type_ids_i, attention_mask_i]\n",
    "\n",
    "bert_output = bert(input_ids_i, token_type_ids = token_type_ids_i, attention_mask = attention_mask_i)[0]"
   ]
  },
  {
   "cell_type": "markdown",
   "id": "6803d448",
   "metadata": {},
   "source": [
    "## Add layers"
   ]
  },
  {
   "cell_type": "code",
   "execution_count": null,
   "id": "7acbebff",
   "metadata": {
    "scrolled": true
   },
   "outputs": [],
   "source": [
    "bert_output = bert(input_ids_i, token_type_ids = token_type_ids_i, attention_mask = attention_mask_i)[0]\n",
    "output = bert_output[:, 0, :]\n",
    "\n",
    "output = Dropout(0.3)(output)\n",
    "\n",
    "output = Dense(10, activation = 'relu')(output)\n",
    "\n",
    "output = Dense(7, activation = 'softmax')(output) #Adding a softmax layer for softmax regression with categorical \n",
    "#cross entropy\n",
    "\n",
    "model = Model(inputs = inputs, outputs = output)\n",
    "\n",
    "model.compile(loss = loss, optimizer = optimizer, metrics = metrics)\n",
    "\n",
    "model.summary()"
   ]
  },
  {
   "cell_type": "code",
   "execution_count": 61,
   "id": "f7555d20",
   "metadata": {
    "scrolled": false
   },
   "outputs": [
    {
     "data": {
      "text/plain": [
       "<KerasTensor: shape=(None, 210, 768) dtype=float32 (created by layer 'tf_bert_model')>"
      ]
     },
     "execution_count": 61,
     "metadata": {},
     "output_type": "execute_result"
    }
   ],
   "source": [
    "bert_output"
   ]
  },
  {
   "cell_type": "code",
   "execution_count": 62,
   "id": "5d8b5def",
   "metadata": {
    "scrolled": false
   },
   "outputs": [],
   "source": [
    "# Datas\n",
    "train_l = train_df['value'].values\n",
    "\n",
    "val_prob = 0.2\n",
    "split = int(len(train_l)*(1 - val_prob))\n",
    "\n",
    "train_x = tuple(np.array(train_d)[:, :split, :])\n",
    "train_y =np.array(train_l)[:split]\n",
    "\n",
    "val_x = tuple(np.array(train_d)[:, split:, :])\n",
    "val_y =np.array(train_l)[split:]"
   ]
  },
  {
   "cell_type": "code",
   "execution_count": 63,
   "id": "6f5ddc99",
   "metadata": {},
   "outputs": [],
   "source": [
    "train_yl = []\n",
    "val_yl = []\n",
    "for i in range(0,train_y.shape[0]):\n",
    "    train_yl.append(list(train_y[i]))\n",
    "for i in range(0,val_y.shape[0]):\n",
    "    val_yl.append(list(val_y[i]))"
   ]
  },
  {
   "cell_type": "code",
   "execution_count": 64,
   "id": "9c2ba767",
   "metadata": {},
   "outputs": [],
   "source": [
    "train_yll = np.asarray(train_yl).astype(np.float32)\n",
    "val_yl1 = np.asarray(val_yl).astype(np.float32)"
   ]
  },
  {
   "cell_type": "markdown",
   "id": "2749ad0f",
   "metadata": {},
   "source": [
    "## Train the model "
   ]
  },
  {
   "cell_type": "code",
   "execution_count": null,
   "id": "8c8752d9",
   "metadata": {
    "scrolled": false
   },
   "outputs": [],
   "source": [
    "history=model.fit(train_x, train_yll, validation_data = (val_x, val_yl1), epochs = 10)"
   ]
  },
  {
   "cell_type": "code",
   "execution_count": null,
   "id": "754fbe08",
   "metadata": {},
   "outputs": [],
   "source": [
    "print(history.history.keys())"
   ]
  },
  {
   "cell_type": "code",
   "execution_count": null,
   "id": "54b6db66",
   "metadata": {
    "scrolled": false
   },
   "outputs": [],
   "source": [
    "# summarize history for accuracy\n",
    "plt.plot(history.history['accuracy'])\n",
    "plt.plot(history.history['val_accuracy'])\n",
    "plt.title('model accuracy')\n",
    "plt.ylabel('accuracy')\n",
    "plt.xlabel('epoch')\n",
    "plt.legend(['Train', 'Validation'], loc='upper left')\n",
    "plt.show()\n",
    "# summarize history for loss\n",
    "plt.plot(history.history['loss'])\n",
    "plt.plot(history.history['val_loss'])\n",
    "plt.title('model loss')\n",
    "plt.ylabel('loss')\n",
    "plt.xlabel('epoch')\n",
    "plt.legend(['Train', 'Validation'], loc='upper left')\n",
    "plt.show()\n"
   ]
  },
  {
   "cell_type": "markdown",
   "id": "6673ada3",
   "metadata": {},
   "source": [
    "## Test the model "
   ]
  },
  {
   "cell_type": "code",
   "execution_count": 29,
   "id": "682f3cbc",
   "metadata": {},
   "outputs": [],
   "source": [
    "test_model=tuple(np.array(test_d))\n",
    "test_model_val=np.array(test_df['value'].values)"
   ]
  },
  {
   "cell_type": "code",
   "execution_count": 30,
   "id": "7a4b3dea",
   "metadata": {},
   "outputs": [],
   "source": [
    "test_yl = []\n",
    "\n",
    "for i in range(0,len(test_model)):\n",
    "    test_yl.append(list(test_model_val[i]))"
   ]
  },
  {
   "cell_type": "code",
   "execution_count": 31,
   "id": "2c811916",
   "metadata": {
    "scrolled": false
   },
   "outputs": [],
   "source": [
    "a=model.predict(test_model)"
   ]
  },
  {
   "cell_type": "code",
   "execution_count": 32,
   "id": "6c2f849f",
   "metadata": {},
   "outputs": [
    {
     "data": {
      "text/plain": [
       "array([[7.9964260e-03, 2.5284803e-03, 9.9971414e-02, ..., 2.8065926e-01,\n",
       "        6.0672247e-01, 1.1110840e-03],\n",
       "       [3.1416974e-04, 2.3464370e-04, 9.6047288e-01, ..., 3.7956160e-02,\n",
       "        6.2877976e-04, 1.9828625e-05],\n",
       "       [2.9507941e-03, 9.8873502e-01, 2.0062386e-03, ..., 1.4966296e-03,\n",
       "        4.5724483e-03, 1.7803730e-04],\n",
       "       ...,\n",
       "       [5.1689416e-04, 1.6180331e-05, 9.9644178e-01, ..., 1.8473691e-03,\n",
       "        1.1502355e-03, 1.1271140e-06],\n",
       "       [1.1378243e-03, 4.2802579e-04, 5.1281315e-01, ..., 4.8310748e-01,\n",
       "        9.5566647e-04, 4.8137709e-04],\n",
       "       [3.5086492e-04, 1.5715865e-05, 2.4540357e-03, ..., 9.9703264e-01,\n",
       "        3.5865214e-05, 6.2416031e-05]], dtype=float32)"
      ]
     },
     "execution_count": 32,
     "metadata": {},
     "output_type": "execute_result"
    }
   ],
   "source": [
    "a"
   ]
  },
  {
   "cell_type": "code",
   "execution_count": 33,
   "id": "6ba631e9",
   "metadata": {},
   "outputs": [
    {
     "data": {
      "text/plain": [
       "1.0000000067520887"
      ]
     },
     "execution_count": 33,
     "metadata": {},
     "output_type": "execute_result"
    }
   ],
   "source": [
    "sum(a[0])"
   ]
  },
  {
   "cell_type": "code",
   "execution_count": 34,
   "id": "653294ee",
   "metadata": {
    "scrolled": true
   },
   "outputs": [
    {
     "data": {
      "text/plain": [
       "7435"
      ]
     },
     "execution_count": 34,
     "metadata": {},
     "output_type": "execute_result"
    }
   ],
   "source": [
    "len(a)"
   ]
  },
  {
   "cell_type": "code",
   "execution_count": 35,
   "id": "84762b8b",
   "metadata": {
    "scrolled": true
   },
   "outputs": [
    {
     "data": {
      "text/plain": [
       "array([0., 0., 0., 0., 1., 0., 0.])"
      ]
     },
     "execution_count": 35,
     "metadata": {},
     "output_type": "execute_result"
    }
   ],
   "source": [
    "test_model_val[0]"
   ]
  },
  {
   "cell_type": "code",
   "execution_count": 36,
   "id": "c67e6c42",
   "metadata": {
    "scrolled": true
   },
   "outputs": [
    {
     "data": {
      "text/plain": [
       "7435"
      ]
     },
     "execution_count": 36,
     "metadata": {},
     "output_type": "execute_result"
    }
   ],
   "source": [
    "len(test_model_val)"
   ]
  },
  {
   "cell_type": "code",
   "execution_count": 37,
   "id": "45bb1aec",
   "metadata": {},
   "outputs": [],
   "source": [
    "def maximum (l):\n",
    "    u=0\n",
    "    max=0\n",
    "    for k in range (len(l)):\n",
    "        if l[k]>max:\n",
    "            max=l[k]\n",
    "            u=k\n",
    "    return(u)"
   ]
  },
  {
   "cell_type": "code",
   "execution_count": 38,
   "id": "73a46d57",
   "metadata": {},
   "outputs": [
    {
     "name": "stdout",
     "output_type": "stream",
     "text": [
      "the model has 5364 good answers\n",
      "the model has 2071 bad answers\n",
      "The accuracy is 0.7214525891055817\n"
     ]
    }
   ],
   "source": [
    "i=0\n",
    "j=0\n",
    "for k in range (len(a)):\n",
    "    if maximum(a[k])==maximum(test_model_val[k]):\n",
    "        i=i+1\n",
    "    else: \n",
    "        j=j+1\n",
    "print('the model has {} good answers'.format(i))\n",
    "print('the model has {} bad answers'.format(j))\n",
    "print('The accuracy is {}'.format(i/(i+j)))\n"
   ]
  },
  {
   "cell_type": "code",
   "execution_count": null,
   "id": "789ebd6b",
   "metadata": {},
   "outputs": [],
   "source": [
    "Y=[]\n",
    "X=[k for k in range (len(a))]\n",
    "for k in range (len(a)):\n",
    "    Y.append(100*max(a[k]))\n",
    "plt.plot(X,Y)"
   ]
  },
  {
   "cell_type": "markdown",
   "id": "57cf9000",
   "metadata": {},
   "source": [
    "###### "
   ]
  }
 ],
 "metadata": {
  "kernelspec": {
   "display_name": "Python 3",
   "language": "python",
   "name": "python3"
  },
  "language_info": {
   "codemirror_mode": {
    "name": "ipython",
    "version": 3
   },
   "file_extension": ".py",
   "mimetype": "text/x-python",
   "name": "python",
   "nbconvert_exporter": "python",
   "pygments_lexer": "ipython3",
   "version": "3.9.4"
  }
 },
 "nbformat": 4,
 "nbformat_minor": 5
}
