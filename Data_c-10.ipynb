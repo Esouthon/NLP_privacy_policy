{
 "cells": [
  {
   "cell_type": "code",
   "execution_count": 1,
   "id": "84ac83e9",
   "metadata": {},
   "outputs": [
    {
     "ename": "ModuleNotFoundError",
     "evalue": "No module named 'seaborn'",
     "output_type": "error",
     "traceback": [
      "\u001b[0;31m---------------------------------------------------------------------------\u001b[0m",
      "\u001b[0;31mModuleNotFoundError\u001b[0m                       Traceback (most recent call last)",
      "Cell \u001b[0;32mIn [1], line 9\u001b[0m\n\u001b[1;32m      7\u001b[0m \u001b[38;5;28;01mfrom\u001b[39;00m \u001b[38;5;21;01mtqdm\u001b[39;00m \u001b[38;5;28;01mimport\u001b[39;00m tqdm\n\u001b[1;32m      8\u001b[0m \u001b[38;5;28;01mimport\u001b[39;00m \u001b[38;5;21;01mmatplotlib\u001b[39;00m\u001b[38;5;21;01m.\u001b[39;00m\u001b[38;5;21;01mpyplot\u001b[39;00m \u001b[38;5;28;01mas\u001b[39;00m \u001b[38;5;21;01mplt\u001b[39;00m\n\u001b[0;32m----> 9\u001b[0m \u001b[38;5;28;01mimport\u001b[39;00m \u001b[38;5;21;01mseaborn\u001b[39;00m\n",
      "\u001b[0;31mModuleNotFoundError\u001b[0m: No module named 'seaborn'"
     ]
    }
   ],
   "source": [
    "import yaml\n",
    "import numpy as np\n",
    "import csv\n",
    "import glob\n",
    "import pandas as pd\n",
    "import os\n",
    "from tqdm import tqdm\n",
    "import matplotlib.pyplot as plt\n",
    "import seaborn"
   ]
  },
  {
   "cell_type": "markdown",
   "id": "b4cd336d",
   "metadata": {},
   "source": [
    "### Read CSV"
   ]
  },
  {
   "cell_type": "code",
   "execution_count": null,
   "id": "654b433c",
   "metadata": {},
   "outputs": [],
   "source": [
    "csv_file_names=glob.glob(\"/flush5/sou090/01 - Project/annotations/*\")"
   ]
  },
  {
   "cell_type": "markdown",
   "id": "0c465c11",
   "metadata": {},
   "source": [
    "### Creatioin of CSV"
   ]
  },
  {
   "cell_type": "code",
   "execution_count": 3,
   "id": "60088d5a",
   "metadata": {},
   "outputs": [],
   "source": [
    "#Head of the new csv\n",
    "head = {'text' : [], 'value' : []}\n",
    "output = pd.DataFrame(head)"
   ]
  },
  {
   "cell_type": "markdown",
   "id": "17b90001",
   "metadata": {},
   "source": [
    "### Read each line of each data frame"
   ]
  },
  {
   "cell_type": "code",
   "execution_count": 4,
   "id": "8122deac",
   "metadata": {},
   "outputs": [],
   "source": [
    "name_indice=5\n",
    "text_indice=6\n",
    "value_indice=[2,4,5,1,3,5,4,6,6,0]\n",
    "name_list=['First Party Collection/Use','Third Party Sharing/Collection','User Choice/Control','User Access, Edit and Deletion','Data Retention','Data Security','Policy Change','Do Not Track','International and Specific Audiences', 'Other']"
   ]
  },
  {
   "cell_type": "code",
   "execution_count": 5,
   "id": "e9337b26",
   "metadata": {},
   "outputs": [
    {
     "name": "stderr",
     "output_type": "stream",
     "text": [
      "100%|██████████| 115/115 [01:14<00:00,  1.54it/s]\n"
     ]
    }
   ],
   "source": [
    "u=0\n",
    "for i in tqdm(range (len(csv_file_names))):\n",
    "    df=pd.read_csv(csv_file_names[i], header=None)\n",
    "    for j in range (len(df)):\n",
    "        for k in range (len(name_list)):\n",
    "            #Association of the value wih  the value_indice\n",
    "            if df[name_indice][j]==name_list[k]:\n",
    "                text=df[text_indice][j]\n",
    "                value=value_indice[k]\n",
    "                output.loc[u]=[text, value]\n",
    "                u=u+1"
   ]
  },
  {
   "cell_type": "code",
   "execution_count": 6,
   "id": "db7b7a2d",
   "metadata": {},
   "outputs": [
    {
     "data": {
      "image/png": "[encoded data removed]",
      "text/plain": [
       "<Figure size 432x288 with 1 Axes>"
      ]
     },
     "metadata": {
      "needs_background": "light"
     },
     "output_type": "display_data"
    }
   ],
   "source": [
    "fig_1=seaborn.histplot(output,x='value').set(title=\"Raw data\")\n",
    "plt.savefig('fig_1')"
   ]
  },
  {
   "cell_type": "markdown",
   "id": "d4ff2cfb",
   "metadata": {},
   "source": [
    "## Order the data\n",
    "\n",
    "The text is raw from the data pricavcy. In a line , there is multiple \"selected_text\".\n",
    "\n",
    "\n",
    "1. We need to cut sentences par sentences for the model. \n",
    "We will give the same value for each \"selected_text\".\n",
    "2. Delate the duplicate rows\n",
    "3. Drop when the sentences is sorther than 10 caracters"
   ]
  },
  {
   "cell_type": "markdown",
   "id": "b1196763",
   "metadata": {},
   "source": [
    "#### 1. We need to cut sentences par sentences for the model. "
   ]
  },
  {
   "cell_type": "code",
   "execution_count": 7,
   "id": "58fb5f51",
   "metadata": {},
   "outputs": [],
   "source": [
    "#Function to cut each \"selected text\"\n",
    "def find_text(L):\n",
    "    lis=[]\n",
    "    R=''\n",
    "    L_bis=L\n",
    "    a=L.find(\"selectedText\")\n",
    "    while a!=-1:\n",
    "        i=a+16\n",
    "        c=0\n",
    "        k=i\n",
    "        while L[k]!='\"':\n",
    "            c=c+1\n",
    "            k=k+1\n",
    "        R=L[i:i+c]\n",
    "        lis.append(R)\n",
    "        L_bis=L[i:]\n",
    "        a=L_bis.find(\"selectedText\")\n",
    "        L=L_bis\n",
    "    return(lis)"
   ]
  },
  {
   "cell_type": "code",
   "execution_count": 8,
   "id": "5e104ae9",
   "metadata": {},
   "outputs": [],
   "source": [
    "#previous data\n",
    "df=output\n",
    "#new data\n",
    "output_2= pd.DataFrame(head)"
   ]
  },
  {
   "cell_type": "code",
   "execution_count": 9,
   "id": "b5250c71",
   "metadata": {},
   "outputs": [
    {
     "data": {
      "text/html": [
       "<div>\n",
       "<style scoped>\n",
       "    .dataframe tbody tr th:only-of-type {\n",
       "        vertical-align: middle;\n",
       "    }\n",
       "\n",
       "    .dataframe tbody tr th {\n",
       "        vertical-align: top;\n",
       "    }\n",
       "\n",
       "    .dataframe thead th {\n",
       "        text-align: right;\n",
       "    }\n",
       "</style>\n",
       "<table border=\"1\" class=\"dataframe\">\n",
       "  <thead>\n",
       "    <tr style=\"text-align: right;\">\n",
       "      <th></th>\n",
       "      <th>text</th>\n",
       "      <th>value</th>\n",
       "    </tr>\n",
       "  </thead>\n",
       "  <tbody>\n",
       "    <tr>\n",
       "      <th>0</th>\n",
       "      <td>{\"Other Type\": {\"selectedText\": \"RedOrbit, Inc...</td>\n",
       "      <td>0.0</td>\n",
       "    </tr>\n",
       "    <tr>\n",
       "      <th>1</th>\n",
       "      <td>{\"Other Type\": {\"selectedText\": \"This privacy ...</td>\n",
       "      <td>0.0</td>\n",
       "    </tr>\n",
       "    <tr>\n",
       "      <th>2</th>\n",
       "      <td>{\"Other Type\": {\"selectedText\": \"RedOrbit, Inc...</td>\n",
       "      <td>0.0</td>\n",
       "    </tr>\n",
       "    <tr>\n",
       "      <th>3</th>\n",
       "      <td>{\"Collection Mode\": {\"selectedText\": \"Not sele...</td>\n",
       "      <td>2.0</td>\n",
       "    </tr>\n",
       "    <tr>\n",
       "      <th>4</th>\n",
       "      <td>{\"Collection Mode\": {\"selectedText\": \"null\", \"...</td>\n",
       "      <td>2.0</td>\n",
       "    </tr>\n",
       "    <tr>\n",
       "      <th>...</th>\n",
       "      <td>...</td>\n",
       "      <td>...</td>\n",
       "    </tr>\n",
       "    <tr>\n",
       "      <th>23189</th>\n",
       "      <td>{\"Other Type\": {\"endIndexInSegment\": 220, \"sta...</td>\n",
       "      <td>0.0</td>\n",
       "    </tr>\n",
       "    <tr>\n",
       "      <th>23190</th>\n",
       "      <td>{\"Other Type\": {\"endIndexInSegment\": 220, \"sta...</td>\n",
       "      <td>0.0</td>\n",
       "    </tr>\n",
       "    <tr>\n",
       "      <th>23191</th>\n",
       "      <td>{\"Other Type\": {\"endIndexInSegment\": 190, \"sta...</td>\n",
       "      <td>0.0</td>\n",
       "    </tr>\n",
       "    <tr>\n",
       "      <th>23192</th>\n",
       "      <td>{\"Other Type\": {\"endIndexInSegment\": 151, \"sta...</td>\n",
       "      <td>0.0</td>\n",
       "    </tr>\n",
       "    <tr>\n",
       "      <th>23193</th>\n",
       "      <td>{\"Other Type\": {\"endIndexInSegment\": 190, \"sta...</td>\n",
       "      <td>0.0</td>\n",
       "    </tr>\n",
       "  </tbody>\n",
       "</table>\n",
       "<p>23194 rows × 2 columns</p>\n",
       "</div>"
      ],
      "text/plain": [
       "                                                    text  value\n",
       "0      {\"Other Type\": {\"selectedText\": \"RedOrbit, Inc...    0.0\n",
       "1      {\"Other Type\": {\"selectedText\": \"This privacy ...    0.0\n",
       "2      {\"Other Type\": {\"selectedText\": \"RedOrbit, Inc...    0.0\n",
       "3      {\"Collection Mode\": {\"selectedText\": \"Not sele...    2.0\n",
       "4      {\"Collection Mode\": {\"selectedText\": \"null\", \"...    2.0\n",
       "...                                                  ...    ...\n",
       "23189  {\"Other Type\": {\"endIndexInSegment\": 220, \"sta...    0.0\n",
       "23190  {\"Other Type\": {\"endIndexInSegment\": 220, \"sta...    0.0\n",
       "23191  {\"Other Type\": {\"endIndexInSegment\": 190, \"sta...    0.0\n",
       "23192  {\"Other Type\": {\"endIndexInSegment\": 151, \"sta...    0.0\n",
       "23193  {\"Other Type\": {\"endIndexInSegment\": 190, \"sta...    0.0\n",
       "\n",
       "[23194 rows x 2 columns]"
      ]
     },
     "execution_count": 9,
     "metadata": {},
     "output_type": "execute_result"
    }
   ],
   "source": [
    "output"
   ]
  },
  {
   "cell_type": "code",
   "execution_count": 10,
   "id": "76029156",
   "metadata": {},
   "outputs": [
    {
     "name": "stderr",
     "output_type": "stream",
     "text": [
      "100%|██████████| 23194/23194 [07:19<00:00, 52.73it/s] \n"
     ]
    }
   ],
   "source": [
    "c=0\n",
    "for j in tqdm(range (len(df))):\n",
    "    lit=find_text(df['text'][j])\n",
    "    for k in range (len(lit)):\n",
    "        text=lit[k]\n",
    "        value=df['value'][j]\n",
    "        output_2.loc[c]=[text, value]\n",
    "        c=c+1"
   ]
  },
  {
   "cell_type": "code",
   "execution_count": 11,
   "id": "503532b1",
   "metadata": {},
   "outputs": [
    {
     "data": {
      "image/png": "[encoded data removed]",
      "text/plain": [
       "<Figure size 432x288 with 1 Axes>"
      ]
     },
     "metadata": {
      "needs_background": "light"
     },
     "output_type": "display_data"
    }
   ],
   "source": [
    "fig_2=seaborn.histplot(output_2,x='value').set(title=\"Date, without double, without word less than 10 caracters\")\n",
    "plt.savefig('fi_2')"
   ]
  },
  {
   "cell_type": "markdown",
   "id": "764e7025",
   "metadata": {},
   "source": [
    "#### 2. Delate the double"
   ]
  },
  {
   "cell_type": "code",
   "execution_count": 12,
   "id": "64d1d357",
   "metadata": {},
   "outputs": [],
   "source": [
    "df=output_2"
   ]
  },
  {
   "cell_type": "code",
   "execution_count": 13,
   "id": "931827b2",
   "metadata": {
    "scrolled": false
   },
   "outputs": [
    {
     "data": {
      "text/plain": [
       "True     69291\n",
       "False    33396\n",
       "dtype: int64"
      ]
     },
     "execution_count": 13,
     "metadata": {},
     "output_type": "execute_result"
    }
   ],
   "source": [
    "#count the ducplicate rows\n",
    "df.duplicated().value_counts()"
   ]
  },
  {
   "cell_type": "code",
   "execution_count": 14,
   "id": "cbd16978",
   "metadata": {
    "scrolled": false
   },
   "outputs": [],
   "source": [
    "df=df.drop_duplicates(ignore_index=True)"
   ]
  },
  {
   "cell_type": "code",
   "execution_count": null,
   "id": "4b100b00",
   "metadata": {},
   "outputs": [],
   "source": []
  },
  {
   "cell_type": "markdown",
   "id": "4ce3ce1b",
   "metadata": {},
   "source": [
    "#### 3. Delate words less than 10 caracters and value null"
   ]
  },
  {
   "cell_type": "code",
   "execution_count": 15,
   "id": "10ed91c2",
   "metadata": {},
   "outputs": [],
   "source": [
    "output_3= pd.DataFrame(head)"
   ]
  },
  {
   "cell_type": "code",
   "execution_count": 16,
   "id": "c48031fa",
   "metadata": {},
   "outputs": [
    {
     "name": "stderr",
     "output_type": "stream",
     "text": [
      "100%|██████████| 33396/33396 [01:29<00:00, 371.09it/s]\n"
     ]
    }
   ],
   "source": [
    "c=0\n",
    "for k in tqdm(range(len(df['text']))):\n",
    "    if len(df['text'][k])>10:\n",
    "        text=df['text'][k]\n",
    "        value=df['value'][k]\n",
    "        output_3.loc[c]=[text, value]\n",
    "        c=c+1"
   ]
  },
  {
   "cell_type": "code",
   "execution_count": 17,
   "id": "ee50cfc2",
   "metadata": {},
   "outputs": [
    {
     "data": {
      "image/png": "[encoded data removed]",
      "text/plain": [
       "<Figure size 432x288 with 1 Axes>"
      ]
     },
     "metadata": {
      "needs_background": "light"
     },
     "output_type": "display_data"
    }
   ],
   "source": [
    "fig_3=seaborn.histplot(output_3,x='value').set(title=\"Date, without double, without word less than 10 caracters\")\n",
    "plt.savefig('fig_3')"
   ]
  },
  {
   "cell_type": "markdown",
   "id": "f7587441",
   "metadata": {},
   "source": [
    "## Minimum of value for same text\n",
    "Some rows of the data have the same text buta different value. We will keep the strongest value of a same text : the minimum."
   ]
  },
  {
   "cell_type": "code",
   "execution_count": 18,
   "id": "2c7c8edf",
   "metadata": {},
   "outputs": [],
   "source": [
    "#previous data\n",
    "df=output_3\n",
    "#new data\n",
    "output_4= pd.DataFrame(head)"
   ]
  },
  {
   "cell_type": "code",
   "execution_count": 19,
   "id": "bc428ec8",
   "metadata": {
    "scrolled": true
   },
   "outputs": [],
   "source": [
    "df=df.sort_values('text', ignore_index=True)"
   ]
  },
  {
   "cell_type": "code",
   "execution_count": 20,
   "id": "1b65020d",
   "metadata": {},
   "outputs": [
    {
     "data": {
      "text/html": [
       "<div>\n",
       "<style scoped>\n",
       "    .dataframe tbody tr th:only-of-type {\n",
       "        vertical-align: middle;\n",
       "    }\n",
       "\n",
       "    .dataframe tbody tr th {\n",
       "        vertical-align: top;\n",
       "    }\n",
       "\n",
       "    .dataframe thead th {\n",
       "        text-align: right;\n",
       "    }\n",
       "</style>\n",
       "<table border=\"1\" class=\"dataframe\">\n",
       "  <thead>\n",
       "    <tr style=\"text-align: right;\">\n",
       "      <th></th>\n",
       "      <th>text</th>\n",
       "      <th>value</th>\n",
       "    </tr>\n",
       "  </thead>\n",
       "  <tbody>\n",
       "    <tr>\n",
       "      <th>0</th>\n",
       "      <td>(1) a Federal, State, or local law enforcement...</td>\n",
       "      <td>4.0</td>\n",
       "    </tr>\n",
       "    <tr>\n",
       "      <th>1</th>\n",
       "      <td>(1) a Federal, State, or local law enforcement...</td>\n",
       "      <td>4.0</td>\n",
       "    </tr>\n",
       "    <tr>\n",
       "      <th>2</th>\n",
       "      <td>(1) announcing the change on the home page of ...</td>\n",
       "      <td>4.0</td>\n",
       "    </tr>\n",
       "    <tr>\n",
       "      <th>3</th>\n",
       "      <td>(1) comply with the law or legal processes;</td>\n",
       "      <td>4.0</td>\n",
       "    </tr>\n",
       "    <tr>\n",
       "      <th>4</th>\n",
       "      <td>(1) comply with the law or with legal process;</td>\n",
       "      <td>4.0</td>\n",
       "    </tr>\n",
       "    <tr>\n",
       "      <th>...</th>\n",
       "      <td>...</td>\n",
       "      <td>...</td>\n",
       "    </tr>\n",
       "    <tr>\n",
       "      <th>31670</th>\n",
       "      <td>ypically used to quickly identify a user's com...</td>\n",
       "      <td>5.0</td>\n",
       "    </tr>\n",
       "    <tr>\n",
       "      <th>31671</th>\n",
       "      <td>zip code and state</td>\n",
       "      <td>2.0</td>\n",
       "    </tr>\n",
       "    <tr>\n",
       "      <th>31672</th>\n",
       "      <td>zip code, age, income</td>\n",
       "      <td>2.0</td>\n",
       "    </tr>\n",
       "    <tr>\n",
       "      <th>31673</th>\n",
       "      <td>zip code/postal code.</td>\n",
       "      <td>2.0</td>\n",
       "    </tr>\n",
       "    <tr>\n",
       "      <th>31674</th>\n",
       "      <td>zip codes for example</td>\n",
       "      <td>2.0</td>\n",
       "    </tr>\n",
       "  </tbody>\n",
       "</table>\n",
       "<p>31675 rows × 2 columns</p>\n",
       "</div>"
      ],
      "text/plain": [
       "                                                    text  value\n",
       "0      (1) a Federal, State, or local law enforcement...    4.0\n",
       "1      (1) a Federal, State, or local law enforcement...    4.0\n",
       "2      (1) announcing the change on the home page of ...    4.0\n",
       "3            (1) comply with the law or legal processes;    4.0\n",
       "4         (1) comply with the law or with legal process;    4.0\n",
       "...                                                  ...    ...\n",
       "31670  ypically used to quickly identify a user's com...    5.0\n",
       "31671                                 zip code and state    2.0\n",
       "31672                              zip code, age, income    2.0\n",
       "31673                              zip code/postal code.    2.0\n",
       "31674                              zip codes for example    2.0\n",
       "\n",
       "[31675 rows x 2 columns]"
      ]
     },
     "execution_count": 20,
     "metadata": {},
     "output_type": "execute_result"
    }
   ],
   "source": [
    "df"
   ]
  },
  {
   "cell_type": "code",
   "execution_count": 21,
   "id": "dced649f",
   "metadata": {},
   "outputs": [
    {
     "name": "stderr",
     "output_type": "stream",
     "text": [
      "100%|██████████| 31675/31675 [01:26<00:00, 367.20it/s]\n"
     ]
    }
   ],
   "source": [
    "for k in tqdm(range(len(df))):\n",
    "    if k+1<len(df):\n",
    "        if df['text'][k]!=df['text'][k+1]:\n",
    "            text=df['text'][k]\n",
    "            value=df['value'][k]\n",
    "            output_4.loc[k]=[text,value]\n",
    "            "
   ]
  },
  {
   "cell_type": "code",
   "execution_count": 22,
   "id": "0e8eb994",
   "metadata": {},
   "outputs": [
    {
     "data": {
      "text/html": [
       "<div>\n",
       "<style scoped>\n",
       "    .dataframe tbody tr th:only-of-type {\n",
       "        vertical-align: middle;\n",
       "    }\n",
       "\n",
       "    .dataframe tbody tr th {\n",
       "        vertical-align: top;\n",
       "    }\n",
       "\n",
       "    .dataframe thead th {\n",
       "        text-align: right;\n",
       "    }\n",
       "</style>\n",
       "<table border=\"1\" class=\"dataframe\">\n",
       "  <thead>\n",
       "    <tr style=\"text-align: right;\">\n",
       "      <th></th>\n",
       "      <th>text</th>\n",
       "      <th>value</th>\n",
       "    </tr>\n",
       "  </thead>\n",
       "  <tbody>\n",
       "    <tr>\n",
       "      <th>0</th>\n",
       "      <td>(1) a Federal, State, or local law enforcement...</td>\n",
       "      <td>4.0</td>\n",
       "    </tr>\n",
       "    <tr>\n",
       "      <th>1</th>\n",
       "      <td>(1) a Federal, State, or local law enforcement...</td>\n",
       "      <td>4.0</td>\n",
       "    </tr>\n",
       "    <tr>\n",
       "      <th>2</th>\n",
       "      <td>(1) announcing the change on the home page of ...</td>\n",
       "      <td>4.0</td>\n",
       "    </tr>\n",
       "    <tr>\n",
       "      <th>3</th>\n",
       "      <td>(1) comply with the law or legal processes;</td>\n",
       "      <td>4.0</td>\n",
       "    </tr>\n",
       "    <tr>\n",
       "      <th>4</th>\n",
       "      <td>(1) comply with the law or with legal process;</td>\n",
       "      <td>4.0</td>\n",
       "    </tr>\n",
       "    <tr>\n",
       "      <th>...</th>\n",
       "      <td>...</td>\n",
       "      <td>...</td>\n",
       "    </tr>\n",
       "    <tr>\n",
       "      <th>31669</th>\n",
       "      <td>ypes of targeted advertising by visiting the D...</td>\n",
       "      <td>2.0</td>\n",
       "    </tr>\n",
       "    <tr>\n",
       "      <th>31670</th>\n",
       "      <td>ypically used to quickly identify a user's com...</td>\n",
       "      <td>5.0</td>\n",
       "    </tr>\n",
       "    <tr>\n",
       "      <th>31671</th>\n",
       "      <td>zip code and state</td>\n",
       "      <td>2.0</td>\n",
       "    </tr>\n",
       "    <tr>\n",
       "      <th>31672</th>\n",
       "      <td>zip code, age, income</td>\n",
       "      <td>2.0</td>\n",
       "    </tr>\n",
       "    <tr>\n",
       "      <th>31673</th>\n",
       "      <td>zip code/postal code.</td>\n",
       "      <td>2.0</td>\n",
       "    </tr>\n",
       "  </tbody>\n",
       "</table>\n",
       "<p>29740 rows × 2 columns</p>\n",
       "</div>"
      ],
      "text/plain": [
       "                                                    text  value\n",
       "0      (1) a Federal, State, or local law enforcement...    4.0\n",
       "1      (1) a Federal, State, or local law enforcement...    4.0\n",
       "2      (1) announcing the change on the home page of ...    4.0\n",
       "3            (1) comply with the law or legal processes;    4.0\n",
       "4         (1) comply with the law or with legal process;    4.0\n",
       "...                                                  ...    ...\n",
       "31669  ypes of targeted advertising by visiting the D...    2.0\n",
       "31670  ypically used to quickly identify a user's com...    5.0\n",
       "31671                                 zip code and state    2.0\n",
       "31672                              zip code, age, income    2.0\n",
       "31673                              zip code/postal code.    2.0\n",
       "\n",
       "[29740 rows x 2 columns]"
      ]
     },
     "execution_count": 22,
     "metadata": {},
     "output_type": "execute_result"
    }
   ],
   "source": [
    "output_4"
   ]
  },
  {
   "cell_type": "code",
   "execution_count": 23,
   "id": "4ed8925c",
   "metadata": {},
   "outputs": [
    {
     "ename": "FileNotFoundError",
     "evalue": "[Errno 2] No such file or directory: '/flush5/sou090/project6/data_convert/data_c_10.csv'",
     "output_type": "error",
     "traceback": [
      "\u001b[0;31m---------------------------------------------------------------------------\u001b[0m",
      "\u001b[0;31mFileNotFoundError\u001b[0m                         Traceback (most recent call last)",
      "\u001b[0;32m<ipython-input-23-4e2173e44a39>\u001b[0m in \u001b[0;36m<module>\u001b[0;34m\u001b[0m\n\u001b[0;32m----> 1\u001b[0;31m \u001b[0moutput_4\u001b[0m\u001b[0;34m.\u001b[0m\u001b[0mto_csv\u001b[0m\u001b[0;34m(\u001b[0m\u001b[0;34m'/flush5/sou090/project6/data_convert/data_c_10.csv'\u001b[0m\u001b[0;34m)\u001b[0m\u001b[0;34m\u001b[0m\u001b[0;34m\u001b[0m\u001b[0m\n\u001b[0m",
      "\u001b[0;32m/apps/python/3.9.4/lib/python3.9/site-packages/pandas/core/generic.py\u001b[0m in \u001b[0;36mto_csv\u001b[0;34m(self, path_or_buf, sep, na_rep, float_format, columns, header, index, index_label, mode, encoding, compression, quoting, quotechar, line_terminator, chunksize, date_format, doublequote, escapechar, decimal, errors, storage_options)\u001b[0m\n\u001b[1;32m   3385\u001b[0m         )\n\u001b[1;32m   3386\u001b[0m \u001b[0;34m\u001b[0m\u001b[0m\n\u001b[0;32m-> 3387\u001b[0;31m         return DataFrameRenderer(formatter).to_csv(\n\u001b[0m\u001b[1;32m   3388\u001b[0m             \u001b[0mpath_or_buf\u001b[0m\u001b[0;34m,\u001b[0m\u001b[0;34m\u001b[0m\u001b[0;34m\u001b[0m\u001b[0m\n\u001b[1;32m   3389\u001b[0m             \u001b[0mline_terminator\u001b[0m\u001b[0;34m=\u001b[0m\u001b[0mline_terminator\u001b[0m\u001b[0;34m,\u001b[0m\u001b[0;34m\u001b[0m\u001b[0;34m\u001b[0m\u001b[0m\n",
      "\u001b[0;32m/apps/python/3.9.4/lib/python3.9/site-packages/pandas/io/formats/format.py\u001b[0m in \u001b[0;36mto_csv\u001b[0;34m(self, path_or_buf, encoding, sep, columns, index_label, mode, compression, quoting, quotechar, line_terminator, chunksize, date_format, doublequote, escapechar, errors, storage_options)\u001b[0m\n\u001b[1;32m   1081\u001b[0m             \u001b[0mformatter\u001b[0m\u001b[0;34m=\u001b[0m\u001b[0mself\u001b[0m\u001b[0;34m.\u001b[0m\u001b[0mfmt\u001b[0m\u001b[0;34m,\u001b[0m\u001b[0;34m\u001b[0m\u001b[0;34m\u001b[0m\u001b[0m\n\u001b[1;32m   1082\u001b[0m         )\n\u001b[0;32m-> 1083\u001b[0;31m         \u001b[0mcsv_formatter\u001b[0m\u001b[0;34m.\u001b[0m\u001b[0msave\u001b[0m\u001b[0;34m(\u001b[0m\u001b[0;34m)\u001b[0m\u001b[0;34m\u001b[0m\u001b[0;34m\u001b[0m\u001b[0m\n\u001b[0m\u001b[1;32m   1084\u001b[0m \u001b[0;34m\u001b[0m\u001b[0m\n\u001b[1;32m   1085\u001b[0m         \u001b[0;32mif\u001b[0m \u001b[0mcreated_buffer\u001b[0m\u001b[0;34m:\u001b[0m\u001b[0;34m\u001b[0m\u001b[0;34m\u001b[0m\u001b[0m\n",
      "\u001b[0;32m/apps/python/3.9.4/lib/python3.9/site-packages/pandas/io/formats/csvs.py\u001b[0m in \u001b[0;36msave\u001b[0;34m(self)\u001b[0m\n\u001b[1;32m    226\u001b[0m         \"\"\"\n\u001b[1;32m    227\u001b[0m         \u001b[0;31m# apply compression and byte/text conversion\u001b[0m\u001b[0;34m\u001b[0m\u001b[0;34m\u001b[0m\u001b[0;34m\u001b[0m\u001b[0m\n\u001b[0;32m--> 228\u001b[0;31m         with get_handle(\n\u001b[0m\u001b[1;32m    229\u001b[0m             \u001b[0mself\u001b[0m\u001b[0;34m.\u001b[0m\u001b[0mfilepath_or_buffer\u001b[0m\u001b[0;34m,\u001b[0m\u001b[0;34m\u001b[0m\u001b[0;34m\u001b[0m\u001b[0m\n\u001b[1;32m    230\u001b[0m             \u001b[0mself\u001b[0m\u001b[0;34m.\u001b[0m\u001b[0mmode\u001b[0m\u001b[0;34m,\u001b[0m\u001b[0;34m\u001b[0m\u001b[0;34m\u001b[0m\u001b[0m\n",
      "\u001b[0;32m/apps/python/3.9.4/lib/python3.9/site-packages/pandas/io/common.py\u001b[0m in \u001b[0;36mget_handle\u001b[0;34m(path_or_buf, mode, encoding, compression, memory_map, is_text, errors, storage_options)\u001b[0m\n\u001b[1;32m    640\u001b[0m                 \u001b[0merrors\u001b[0m \u001b[0;34m=\u001b[0m \u001b[0;34m\"replace\"\u001b[0m\u001b[0;34m\u001b[0m\u001b[0;34m\u001b[0m\u001b[0m\n\u001b[1;32m    641\u001b[0m             \u001b[0;31m# Encoding\u001b[0m\u001b[0;34m\u001b[0m\u001b[0;34m\u001b[0m\u001b[0;34m\u001b[0m\u001b[0m\n\u001b[0;32m--> 642\u001b[0;31m             handle = open(\n\u001b[0m\u001b[1;32m    643\u001b[0m                 \u001b[0mhandle\u001b[0m\u001b[0;34m,\u001b[0m\u001b[0;34m\u001b[0m\u001b[0;34m\u001b[0m\u001b[0m\n\u001b[1;32m    644\u001b[0m                 \u001b[0mioargs\u001b[0m\u001b[0;34m.\u001b[0m\u001b[0mmode\u001b[0m\u001b[0;34m,\u001b[0m\u001b[0;34m\u001b[0m\u001b[0;34m\u001b[0m\u001b[0m\n",
      "\u001b[0;31mFileNotFoundError\u001b[0m: [Errno 2] No such file or directory: '/flush5/sou090/project6/data_convert/data_c_10.csv'"
     ]
    }
   ],
   "source": [
    "output_4.to_csv('/flush5/sou090/01 - Project/c-10/data_c_10.csv')"
   ]
  },
  {
   "cell_type": "code",
   "execution_count": null,
   "id": "43595c32",
   "metadata": {},
   "outputs": [],
   "source": [
    "fig_4=seaborn.histplot(output_4,x='value').set(title=\"Date, without double, without word less than 10 caracters, without same sentences different value\")\n",
    "plt.savefig('fig_4')"
   ]
  },
  {
   "cell_type": "code",
   "execution_count": null,
   "id": "bc23c84c",
   "metadata": {},
   "outputs": [],
   "source": []
  }
 ],
 "metadata": {
  "kernelspec": {
   "display_name": "Python 3 (ipykernel)",
   "language": "python",
   "name": "python3"
  },
  "language_info": {
   "codemirror_mode": {
    "name": "ipython",
    "version": 3
   },
   "file_extension": ".py",
   "mimetype": "text/x-python",
   "name": "python",
   "nbconvert_exporter": "python",
   "pygments_lexer": "ipython3",
   "version": "3.9.4"
  }
 },
 "nbformat": 4,
 "nbformat_minor": 5
}
