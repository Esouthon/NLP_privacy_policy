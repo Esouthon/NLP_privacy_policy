{
 "cells": [
  {
   "cell_type": "markdown",
   "id": "70eaab48",
   "metadata": {},
   "source": [
    "## Import libraries\n"
   ]
  },
  {
   "cell_type": "code",
   "execution_count": 1,
   "id": "b46bcd72",
   "metadata": {},
   "outputs": [],
   "source": [
    "import pandas as pd\n",
    "import numpy as np\n",
    "import tensorflow as tf\n",
    "from sklearn.model_selection import train_test_split"
   ]
  },
  {
   "cell_type": "code",
   "execution_count": 2,
   "id": "3241e7c5",
   "metadata": {},
   "outputs": [],
   "source": [
    "from tensorflow.keras import Model, Input\n",
    "from tensorflow.keras.layers import Dense, Dropout\n",
    "from tensorflow.keras.metrics import RootMeanSquaredError\n",
    "from tensorflow.keras.optimizers import Adam\n",
    "from tensorflow.keras.callbacks import ModelCheckpoint\n",
    "from tensorflow.keras.utils import plot_model\n",
    "from transformers import TFBertModel, BertConfig, BertTokenizerFast\n",
    "from tensorflow.python.keras import backend as K\n",
    "import matplotlib.pyplot as plt"
   ]
  },
  {
   "cell_type": "markdown",
   "id": "c0e11b7b",
   "metadata": {},
   "source": [
    "## Import Data"
   ]
  },
  {
   "cell_type": "code",
   "execution_count": 3,
   "id": "89deb5f7",
   "metadata": {},
   "outputs": [
    {
     "name": "stdout",
     "output_type": "stream",
     "text": [
      "46695 5190\n"
     ]
    }
   ],
   "source": [
    "#Read data\n",
    "df=pd.read_csv('/flush5/sou090/01 - Project/c-9/data.csv')\n",
    "\n",
    "#Split data\n",
    "train_df, test_df = train_test_split(df, test_size=0.1)\n",
    "\n",
    "print(train_df.size, test_df.size)"
   ]
  },
  {
   "cell_type": "code",
   "execution_count": 4,
   "id": "0bbc72b6",
   "metadata": {},
   "outputs": [
    {
     "name": "stdout",
     "output_type": "stream",
     "text": [
      "max length of text:  134 words\n"
     ]
    }
   ],
   "source": [
    "ex_len = []\n",
    "for i in train_df['text']:\n",
    "  ex_len.append(len(i.split()))\n",
    "print('max length of text: ', max(ex_len), 'words')"
   ]
  },
  {
   "cell_type": "markdown",
   "id": "8842301d",
   "metadata": {},
   "source": [
    "## Tokenize"
   ]
  },
  {
   "cell_type": "code",
   "execution_count": 5,
   "id": "043abc5c",
   "metadata": {},
   "outputs": [],
   "source": [
    "bert_model = 'bert-base-uncased'\n",
    "tokenizer = BertTokenizerFast.from_pretrained(bert_model)"
   ]
  },
  {
   "cell_type": "code",
   "execution_count": 6,
   "id": "a905b289",
   "metadata": {},
   "outputs": [],
   "source": [
    "# Encoder the function to tokenize the data\n",
    "def encoder(df, tokenizer, label = 'text', maxLen = 210):\n",
    "    input_id = []\n",
    "    token_type = []\n",
    "    attention_mask = []\n",
    "    for i in df[label].values:\n",
    "        token = tokenizer(i, max_length = maxLen, truncation = True, padding = 'max_length', add_special_tokens = True)\n",
    "        input_id.append(token['input_ids'])\n",
    "        token_type.append(token['token_type_ids'])\n",
    "        attention_mask.append(token['attention_mask'])\n",
    "    return np.array(input_id), np.array(token_type), np.array(attention_mask)"
   ]
  },
  {
   "cell_type": "code",
   "execution_count": 7,
   "id": "22e55243",
   "metadata": {
    "scrolled": true
   },
   "outputs": [],
   "source": [
    "#Call the function to tokenize data\n",
    "train_d = encoder(train_df, tokenizer)\n",
    "test_d = encoder(test_df, tokenizer)"
   ]
  },
  {
   "cell_type": "markdown",
   "id": "962d64d6",
   "metadata": {},
   "source": [
    "# Config of Bert"
   ]
  },
  {
   "cell_type": "code",
   "execution_count": 8,
   "id": "340a84ef",
   "metadata": {},
   "outputs": [],
   "source": [
    "model_config = BertConfig.from_pretrained(bert_model)"
   ]
  },
  {
   "cell_type": "code",
   "execution_count": 9,
   "id": "4e85c97c",
   "metadata": {},
   "outputs": [
    {
     "data": {
      "text/plain": [
       "BertConfig {\n",
       "  \"architectures\": [\n",
       "    \"BertForMaskedLM\"\n",
       "  ],\n",
       "  \"attention_probs_dropout_prob\": 0.1,\n",
       "  \"classifier_dropout\": null,\n",
       "  \"gradient_checkpointing\": false,\n",
       "  \"hidden_act\": \"gelu\",\n",
       "  \"hidden_dropout_prob\": 0.1,\n",
       "  \"hidden_size\": 768,\n",
       "  \"initializer_range\": 0.02,\n",
       "  \"intermediate_size\": 3072,\n",
       "  \"layer_norm_eps\": 1e-12,\n",
       "  \"max_position_embeddings\": 512,\n",
       "  \"model_type\": \"bert\",\n",
       "  \"num_attention_heads\": 12,\n",
       "  \"num_hidden_layers\": 12,\n",
       "  \"output_hidden_states\": true,\n",
       "  \"pad_token_id\": 0,\n",
       "  \"position_embedding_type\": \"absolute\",\n",
       "  \"transformers_version\": \"4.22.2\",\n",
       "  \"type_vocab_size\": 2,\n",
       "  \"use_cache\": true,\n",
       "  \"vocab_size\": 30522\n",
       "}"
      ]
     },
     "execution_count": 9,
     "metadata": {},
     "output_type": "execute_result"
    }
   ],
   "source": [
    "model_config.output_hidden_states = True\n",
    "model_config"
   ]
  },
  {
   "cell_type": "markdown",
   "id": "cf98c493",
   "metadata": {},
   "source": [
    "## Parameters"
   ]
  },
  {
   "cell_type": "code",
   "execution_count": 10,
   "id": "76089444",
   "metadata": {
    "scrolled": true
   },
   "outputs": [
    {
     "name": "stderr",
     "output_type": "stream",
     "text": [
      "Some layers from the model checkpoint at bert-base-uncased were not used when initializing TFBertModel: ['nsp___cls', 'mlm___cls']\n",
      "- This IS expected if you are initializing TFBertModel from the checkpoint of a model trained on another task or with another architecture (e.g. initializing a BertForSequenceClassification model from a BertForPreTraining model).\n",
      "- This IS NOT expected if you are initializing TFBertModel from the checkpoint of a model that you expect to be exactly identical (initializing a BertForSequenceClassification model from a BertForSequenceClassification model).\n",
      "All the layers of TFBertModel were initialized from the model checkpoint at bert-base-uncased.\n",
      "If your task is similar to the task the model of the checkpoint was trained on, you can already use TFBertModel for predictions without further training.\n"
     ]
    }
   ],
   "source": [
    "bert = TFBertModel.from_pretrained(bert_model, config = model_config)"
   ]
  },
  {
   "cell_type": "code",
   "execution_count": 11,
   "id": "58873cb2",
   "metadata": {},
   "outputs": [],
   "source": [
    "# tunable parameters\n",
    "max_len = 210\n",
    "#fix learning_rate\n",
    "learning_rate = 1e-4\n",
    "epochs = 3\n",
    "\n",
    "#try to freeze layers\n",
    "\n",
    "# callbacks\n",
    "ckpt_dir = 'ckpt{epoch:02d}.h6'\n",
    "ckpt = ModelCheckpoint(\n",
    "    filepath = ckpt_dir,\n",
    "    save_freq = 'epoch',\n",
    "    save_weights_only=True)\n",
    "\n",
    "optimizer = Adam(learning_rate = learning_rate)\n",
    "metrics=tf.keras.metrics.BinaryAccuracy(\n",
    "    name=\"binary_accuracy\", dtype=None, threshold=0.5\n",
    ")\n",
    "loss = 'binary_crossentropy'\n",
    "\n",
    "callbacks = [ckpt]"
   ]
  },
  {
   "cell_type": "code",
   "execution_count": 12,
   "id": "51b0e8c0",
   "metadata": {},
   "outputs": [],
   "source": [
    "input_ids_i = Input(shape = (max_len, ), dtype = tf.int32, name = 'input_ids')\n",
    "token_type_ids_i = Input(shape = (max_len, ), dtype = tf.int32, name = 'token_type_ids')\n",
    "attention_mask_i = Input(shape = (max_len, ), dtype = tf.int32, name = 'attention_mask')\n",
    "inputs = [input_ids_i, token_type_ids_i, attention_mask_i]\n",
    "\n",
    "bert_output = bert(input_ids_i, token_type_ids = token_type_ids_i, attention_mask = attention_mask_i)[0]"
   ]
  },
  {
   "cell_type": "markdown",
   "id": "6803d448",
   "metadata": {},
   "source": [
    "## Add layers"
   ]
  },
  {
   "cell_type": "code",
   "execution_count": 13,
   "id": "7acbebff",
   "metadata": {
    "scrolled": true
   },
   "outputs": [
    {
     "name": "stdout",
     "output_type": "stream",
     "text": [
      "Model: \"model\"\n",
      "__________________________________________________________________________________________________\n",
      " Layer (type)                   Output Shape         Param #     Connected to                     \n",
      "==================================================================================================\n",
      " input_ids (InputLayer)         [(None, 210)]        0           []                               \n",
      "                                                                                                  \n",
      " attention_mask (InputLayer)    [(None, 210)]        0           []                               \n",
      "                                                                                                  \n",
      " token_type_ids (InputLayer)    [(None, 210)]        0           []                               \n",
      "                                                                                                  \n",
      " tf_bert_model (TFBertModel)    TFBaseModelOutputWi  109482240   ['input_ids[0][0]',              \n",
      "                                thPoolingAndCrossAt               'attention_mask[0][0]',         \n",
      "                                tentions(last_hidde               'token_type_ids[0][0]']         \n",
      "                                n_state=(None, 210,                                               \n",
      "                                 768),                                                            \n",
      "                                 pooler_output=(Non                                               \n",
      "                                e, 768),                                                          \n",
      "                                 past_key_values=No                                               \n",
      "                                ne, hidden_states=(                                               \n",
      "                                (None, 210, 768),                                                 \n",
      "                                 (None, 210, 768),                                                \n",
      "                                 (None, 210, 768),                                                \n",
      "                                 (None, 210, 768),                                                \n",
      "                                 (None, 210, 768),                                                \n",
      "                                 (None, 210, 768),                                                \n",
      "                                 (None, 210, 768),                                                \n",
      "                                 (None, 210, 768),                                                \n",
      "                                 (None, 210, 768),                                                \n",
      "                                 (None, 210, 768),                                                \n",
      "                                 (None, 210, 768),                                                \n",
      "                                 (None, 210, 768),                                                \n",
      "                                 (None, 210, 768)),                                               \n",
      "                                 attentions=None, c                                               \n",
      "                                ross_attentions=Non                                               \n",
      "                                e)                                                                \n",
      "                                                                                                  \n",
      " tf.__operators__.getitem (Slic  (None, 768)         0           ['tf_bert_model[0][13]']         \n",
      " ingOpLambda)                                                                                     \n",
      "                                                                                                  \n",
      " dropout_37 (Dropout)           (None, 768)          0           ['tf.__operators__.getitem[0][0]'\n",
      "                                                                 ]                                \n",
      "                                                                                                  \n",
      " dense (Dense)                  (None, 20)           15380       ['dropout_37[0][0]']             \n",
      "                                                                                                  \n",
      " dense_1 (Dense)                (None, 1)            21          ['dense[0][0]']                  \n",
      "                                                                                                  \n",
      "==================================================================================================\n",
      "Total params: 109,497,641\n",
      "Trainable params: 109,497,641\n",
      "Non-trainable params: 0\n",
      "__________________________________________________________________________________________________\n"
     ]
    }
   ],
   "source": [
    "output = bert_output[:, 0, :]\n",
    "output = Dropout(0.2)(output)\n",
    "output = Dense(20, activation = 'relu')(output)\n",
    "output = Dense(1, activation = 'sigmoid')(output) #Adding a softmax layer for softmax regression with categorical \n",
    "#cross entropy\n",
    "\n",
    "model = Model(inputs = inputs, outputs = output)\n",
    "\n",
    "model.compile(loss = loss, optimizer = optimizer, metrics = metrics)\n",
    "\n",
    "model.summary()"
   ]
  },
  {
   "cell_type": "code",
   "execution_count": 14,
   "id": "0c262272",
   "metadata": {
    "scrolled": true
   },
   "outputs": [
    {
     "name": "stdout",
     "output_type": "stream",
     "text": [
      "Model: \"model\"\n",
      "__________________________________________________________________________________________________\n",
      " Layer (type)                   Output Shape         Param #     Connected to                     \n",
      "==================================================================================================\n",
      " input_ids (InputLayer)         [(None, 210)]        0           []                               \n",
      "                                                                                                  \n",
      " attention_mask (InputLayer)    [(None, 210)]        0           []                               \n",
      "                                                                                                  \n",
      " token_type_ids (InputLayer)    [(None, 210)]        0           []                               \n",
      "                                                                                                  \n",
      " tf_bert_model (TFBertModel)    TFBaseModelOutputWi  109482240   ['input_ids[0][0]',              \n",
      "                                thPoolingAndCrossAt               'attention_mask[0][0]',         \n",
      "                                tentions(last_hidde               'token_type_ids[0][0]']         \n",
      "                                n_state=(None, 210,                                               \n",
      "                                 768),                                                            \n",
      "                                 pooler_output=(Non                                               \n",
      "                                e, 768),                                                          \n",
      "                                 past_key_values=No                                               \n",
      "                                ne, hidden_states=(                                               \n",
      "                                (None, 210, 768),                                                 \n",
      "                                 (None, 210, 768),                                                \n",
      "                                 (None, 210, 768),                                                \n",
      "                                 (None, 210, 768),                                                \n",
      "                                 (None, 210, 768),                                                \n",
      "                                 (None, 210, 768),                                                \n",
      "                                 (None, 210, 768),                                                \n",
      "                                 (None, 210, 768),                                                \n",
      "                                 (None, 210, 768),                                                \n",
      "                                 (None, 210, 768),                                                \n",
      "                                 (None, 210, 768),                                                \n",
      "                                 (None, 210, 768),                                                \n",
      "                                 (None, 210, 768)),                                               \n",
      "                                 attentions=None, c                                               \n",
      "                                ross_attentions=Non                                               \n",
      "                                e)                                                                \n",
      "                                                                                                  \n",
      " tf.__operators__.getitem (Slic  (None, 768)         0           ['tf_bert_model[0][13]']         \n",
      " ingOpLambda)                                                                                     \n",
      "                                                                                                  \n",
      " dropout_37 (Dropout)           (None, 768)          0           ['tf.__operators__.getitem[0][0]'\n",
      "                                                                 ]                                \n",
      "                                                                                                  \n",
      " dense (Dense)                  (None, 20)           15380       ['dropout_37[0][0]']             \n",
      "                                                                                                  \n",
      " dense_1 (Dense)                (None, 1)            21          ['dense[0][0]']                  \n",
      "                                                                                                  \n",
      "==================================================================================================\n",
      "Total params: 109,497,641\n",
      "Trainable params: 15,401\n",
      "Non-trainable params: 109,482,240\n",
      "__________________________________________________________________________________________________\n"
     ]
    }
   ],
   "source": [
    "model.layers[3].trainable = False # Trying to make the bert layers non-trainable\n",
    "model.compile(loss = loss, optimizer = optimizer, metrics = metrics)\n",
    "model.summary()"
   ]
  },
  {
   "cell_type": "code",
   "execution_count": 15,
   "id": "5d8b5def",
   "metadata": {
    "scrolled": true
   },
   "outputs": [
    {
     "name": "stdout",
     "output_type": "stream",
     "text": [
      "[1. 1. 1. ... 0. 1. 0.]\n"
     ]
    }
   ],
   "source": [
    "# Datas\n",
    "\n",
    "train_l = train_df['value'].values\n",
    "\n",
    "val_prob = 0.2\n",
    "split = int(len(train_l)*(1 - val_prob))\n",
    "\n",
    "train_x = tuple(np.array(train_d)[:, :split, :])\n",
    "train_y = train_l[:split]\n",
    "print(train_y)\n",
    "val_x = tuple(np.array(train_d)[:, split:, :])\n",
    "val_y = np.array(train_l[split:])"
   ]
  },
  {
   "cell_type": "markdown",
   "id": "2749ad0f",
   "metadata": {},
   "source": [
    "## Train the model "
   ]
  },
  {
   "cell_type": "code",
   "execution_count": 16,
   "id": "8c8752d9",
   "metadata": {
    "scrolled": true
   },
   "outputs": [
    {
     "name": "stdout",
     "output_type": "stream",
     "text": [
      "Epoch 1/20\n",
      "390/390 [==============================] - 167s 385ms/step - loss: 0.5542 - binary_accuracy: 0.7165 - val_loss: 0.4199 - val_binary_accuracy: 0.8185\n",
      "Epoch 2/20\n",
      "390/390 [==============================] - 143s 366ms/step - loss: 0.4427 - binary_accuracy: 0.8016 - val_loss: 0.3737 - val_binary_accuracy: 0.8429\n",
      "Epoch 3/20\n",
      "390/390 [==============================] - 144s 368ms/step - loss: 0.4104 - binary_accuracy: 0.8199 - val_loss: 0.3505 - val_binary_accuracy: 0.8551\n",
      "Epoch 4/20\n",
      "390/390 [==============================] - 144s 368ms/step - loss: 0.3937 - binary_accuracy: 0.8276 - val_loss: 0.3371 - val_binary_accuracy: 0.8648\n",
      "Epoch 5/20\n",
      "390/390 [==============================] - 143s 367ms/step - loss: 0.3740 - binary_accuracy: 0.8359 - val_loss: 0.3286 - val_binary_accuracy: 0.8673\n",
      "Epoch 6/20\n",
      "390/390 [==============================] - 143s 366ms/step - loss: 0.3731 - binary_accuracy: 0.8370 - val_loss: 0.3233 - val_binary_accuracy: 0.8683\n",
      "Epoch 7/20\n",
      "390/390 [==============================] - 142s 363ms/step - loss: 0.3648 - binary_accuracy: 0.8403 - val_loss: 0.3222 - val_binary_accuracy: 0.8689\n",
      "Epoch 8/20\n",
      "390/390 [==============================] - 142s 363ms/step - loss: 0.3641 - binary_accuracy: 0.8397 - val_loss: 0.3126 - val_binary_accuracy: 0.8763\n",
      "Epoch 9/20\n",
      "390/390 [==============================] - 142s 363ms/step - loss: 0.3614 - binary_accuracy: 0.8416 - val_loss: 0.3097 - val_binary_accuracy: 0.8754\n",
      "Epoch 10/20\n",
      "390/390 [==============================] - 142s 363ms/step - loss: 0.3578 - binary_accuracy: 0.8448 - val_loss: 0.3075 - val_binary_accuracy: 0.8757\n",
      "Epoch 11/20\n",
      "390/390 [==============================] - 142s 364ms/step - loss: 0.3524 - binary_accuracy: 0.8456 - val_loss: 0.3034 - val_binary_accuracy: 0.8783\n",
      "Epoch 12/20\n",
      "390/390 [==============================] - 142s 363ms/step - loss: 0.3497 - binary_accuracy: 0.8455 - val_loss: 0.3084 - val_binary_accuracy: 0.8750\n",
      "Epoch 13/20\n",
      "390/390 [==============================] - 142s 363ms/step - loss: 0.3559 - binary_accuracy: 0.8447 - val_loss: 0.2985 - val_binary_accuracy: 0.8795\n",
      "Epoch 14/20\n",
      "390/390 [==============================] - 142s 363ms/step - loss: 0.3547 - binary_accuracy: 0.8452 - val_loss: 0.3016 - val_binary_accuracy: 0.8799\n",
      "Epoch 15/20\n",
      "390/390 [==============================] - 142s 362ms/step - loss: 0.3455 - binary_accuracy: 0.8497 - val_loss: 0.2994 - val_binary_accuracy: 0.8818\n",
      "Epoch 16/20\n",
      "390/390 [==============================] - 142s 363ms/step - loss: 0.3475 - binary_accuracy: 0.8478 - val_loss: 0.2987 - val_binary_accuracy: 0.8786\n",
      "Epoch 17/20\n",
      "390/390 [==============================] - 142s 362ms/step - loss: 0.3474 - binary_accuracy: 0.8494 - val_loss: 0.2949 - val_binary_accuracy: 0.8815\n",
      "Epoch 18/20\n",
      "390/390 [==============================] - 142s 363ms/step - loss: 0.3479 - binary_accuracy: 0.8472 - val_loss: 0.2974 - val_binary_accuracy: 0.8789\n",
      "Epoch 19/20\n",
      "390/390 [==============================] - 142s 364ms/step - loss: 0.3450 - binary_accuracy: 0.8491 - val_loss: 0.2936 - val_binary_accuracy: 0.8827\n",
      "Epoch 20/20\n",
      "390/390 [==============================] - 142s 363ms/step - loss: 0.3405 - binary_accuracy: 0.8509 - val_loss: 0.2923 - val_binary_accuracy: 0.8831\n"
     ]
    }
   ],
   "source": [
    "history=model.fit(train_x, train_y, validation_data = (val_x, val_y), epochs = 20, callbacks = callbacks)"
   ]
  },
  {
   "cell_type": "code",
   "execution_count": 17,
   "id": "754fbe08",
   "metadata": {},
   "outputs": [
    {
     "name": "stdout",
     "output_type": "stream",
     "text": [
      "dict_keys(['loss', 'binary_accuracy', 'val_loss', 'val_binary_accuracy'])\n"
     ]
    }
   ],
   "source": [
    "print(history.history.keys())"
   ]
  },
  {
   "cell_type": "code",
   "execution_count": 18,
   "id": "54b6db66",
   "metadata": {
    "scrolled": false
   },
   "outputs": [
    {
     "data": {
      "image/png": "[encoded data removed]",
      "text/plain": [
       "<Figure size 432x288 with 1 Axes>"
      ]
     },
     "metadata": {
      "needs_background": "light"
     },
     "output_type": "display_data"
    },
    {
     "data": {
      "image/png": "[encoded data removed]",
      "text/plain": [
       "<Figure size 432x288 with 1 Axes>"
      ]
     },
     "metadata": {
      "needs_background": "light"
     },
     "output_type": "display_data"
    }
   ],
   "source": [
    "# summarize history for accuracy\n",
    "plt.plot(history.history['binary_accuracy'])\n",
    "plt.plot(history.history['val_binary_accuracy'])\n",
    "plt.title('model accuracy')\n",
    "plt.ylabel('accuracy')\n",
    "plt.xlabel('epoch')\n",
    "plt.legend(['Train', 'Validation'], loc='upper left')\n",
    "plt.savefig('Accuracy')\n",
    "plt.show()\n",
    "# summarize history for loss\n",
    "plt.plot(history.history['loss'])\n",
    "plt.plot(history.history['val_loss'])\n",
    "plt.title('model loss')\n",
    "plt.ylabel('loss')\n",
    "plt.xlabel('epoch')\n",
    "plt.legend(['Train', 'Validation'], loc='upper left')\n",
    "plt.savefig('Loss')\n",
    "plt.show()"
   ]
  },
  {
   "cell_type": "markdown",
   "id": "6673ada3",
   "metadata": {},
   "source": [
    "## Test the model "
   ]
  },
  {
   "cell_type": "code",
   "execution_count": 19,
   "id": "682f3cbc",
   "metadata": {},
   "outputs": [],
   "source": [
    "test_model=tuple(np.array(test_d))\n",
    "test_model_val=np.array(test_df['value'].values)"
   ]
  },
  {
   "cell_type": "code",
   "execution_count": 20,
   "id": "2c811916",
   "metadata": {
    "scrolled": false
   },
   "outputs": [],
   "source": [
    "a=model.predict(test_model)"
   ]
  },
  {
   "cell_type": "code",
   "execution_count": 21,
   "id": "73a46d57",
   "metadata": {},
   "outputs": [
    {
     "name": "stdout",
     "output_type": "stream",
     "text": [
      "the model has 1515 good answers\n",
      "the model has 215 bad answers\n",
      "The accuracy is 0.8757225433526011\n"
     ]
    }
   ],
   "source": [
    "i=0\n",
    "j=0\n",
    "for k in range (len(a)):\n",
    "    if a[k]>0.5 and test_model_val[k]==1:\n",
    "        i=i+1\n",
    "    elif a[k]<0.5 and test_model_val[k]==0:\n",
    "        i=i+1\n",
    "    elif a[k]>0.5 and test_model_val[k]==0:\n",
    "        j=j+1\n",
    "    elif a[k]<0.5 and test_model_val[k]==1:\n",
    "        j=j+1\n",
    "print('the model has {} good answers'.format(i))\n",
    "print('the model has {} bad answers'.format(j))\n",
    "print('The accuracy is {}'.format(i/(i+j)))\n"
   ]
  },
  {
   "cell_type": "code",
   "execution_count": null,
   "id": "789ebd6b",
   "metadata": {},
   "outputs": [],
   "source": []
  },
  {
   "cell_type": "code",
   "execution_count": null,
   "id": "6d2cb409",
   "metadata": {},
   "outputs": [],
   "source": []
  }
 ],
 "metadata": {
  "kernelspec": {
   "display_name": "Python 3",
   "language": "python",
   "name": "python3"
  },
  "language_info": {
   "codemirror_mode": {
    "name": "ipython",
    "version": 3
   },
   "file_extension": ".py",
   "mimetype": "text/x-python",
   "name": "python",
   "nbconvert_exporter": "python",
   "pygments_lexer": "ipython3",
   "version": "3.9.4"
  }
 },
 "nbformat": 4,
 "nbformat_minor": 5
}
